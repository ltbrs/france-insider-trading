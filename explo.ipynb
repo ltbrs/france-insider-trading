{
 "cells": [
  {
   "cell_type": "code",
   "execution_count": 1,
   "id": "dce4e34b",
   "metadata": {},
   "outputs": [],
   "source": [
    "from analysis.scrapping import scrape_insider_trades\n",
    "from analysis.score import run_complete_analysis\n",
    "from datetime import datetime\n",
    "import pandas as pd\n",
    "\n",
    "start_page = 1\n",
    "end_page = 100\n"
   ]
  },
  {
   "cell_type": "markdown",
   "id": "dcdcb3d6",
   "metadata": {},
   "source": [
    "# 1. Fetching"
   ]
  },
  {
   "cell_type": "code",
   "execution_count": 2,
   "id": "a5a3fb14",
   "metadata": {},
   "outputs": [],
   "source": [
    "# df = scrape_insider_trades(start_page, end_page)\n",
    "# df.to_csv(\n",
    "#     f'data/insider_trades_{start_page}_{end_page}_{datetime.now().strftime(\"%Y%m%d\")}.csv', index=False)\n"
   ]
  },
  {
   "cell_type": "code",
   "execution_count": 3,
   "id": "9b986c71",
   "metadata": {},
   "outputs": [],
   "source": [
    "\n",
    "df = pd.read_csv(\n",
    "    f'data/insider_trades_{start_page}_{end_page}_{datetime.now().strftime(\"%Y%m%d\")}.csv')"
   ]
  },
  {
   "cell_type": "code",
   "execution_count": 4,
   "id": "cd9738f0",
   "metadata": {},
   "outputs": [
    {
     "name": "stdout",
     "output_type": "stream",
     "text": [
      "🔍 Running insider trading analysis...\n",
      "❌ Error during analysis: agg function failed [how->min,dtype->object]\n"
     ]
    }
   ],
   "source": [
    "run_complete_analysis(df)"
   ]
  },
  {
   "cell_type": "markdown",
   "id": "62daa8ee",
   "metadata": {},
   "source": [
    "# 3. Tickers data"
   ]
  },
  {
   "cell_type": "code",
   "execution_count": 5,
   "id": "3df1cef6",
   "metadata": {},
   "outputs": [],
   "source": [
    "from analysis.ticker import get_daily_prices\n",
    "import json\n",
    "\n",
    "with open('data/company_to_ticker.json', 'r') as f:\n",
    "    company_to_ticker = json.load(f)\n",
    "\n",
    "df['ticker'] = df['company'].map(company_to_ticker)\n"
   ]
  },
  {
   "cell_type": "code",
   "execution_count": 6,
   "id": "7a077b2d",
   "metadata": {},
   "outputs": [],
   "source": [
    "# import time\n",
    "# tickers_data: dict[str, pd.DataFrame] = {}\n",
    "# for ticker in df['ticker'].unique():\n",
    "#     tickers_data[ticker] = get_daily_prices(ticker, 365*1.5)\n",
    "# tickers_df = pd.DataFrame(\n",
    "#     {k: v['Close'] for k, v in tickers_data.items() if not v.empty},\n",
    "#     index=pd.to_datetime([v['Close'] for k, v in tickers_data.items() if not v.empty][0].index))\n",
    "\n",
    "# tickers_df.to_csv(f'data/tickers_data_{datetime.now().strftime(\"%Y%m%d\")}.csv')"
   ]
  },
  {
   "cell_type": "code",
   "execution_count": 7,
   "id": "cef02301",
   "metadata": {},
   "outputs": [],
   "source": [
    "tickers_df = pd.read_csv('data/tickers_data_20250727.csv')"
   ]
  },
  {
   "cell_type": "code",
   "execution_count": 8,
   "id": "002cef13",
   "metadata": {},
   "outputs": [],
   "source": [
    "from analysis.vizualisation import create_insider_trading_chart, create_insider_summary_chart"
   ]
  },
  {
   "cell_type": "code",
   "execution_count": 9,
   "id": "2b925b90",
   "metadata": {},
   "outputs": [
    {
     "data": {
      "text/html": [
       "<div>\n",
       "<style scoped>\n",
       "    .dataframe tbody tr th:only-of-type {\n",
       "        vertical-align: middle;\n",
       "    }\n",
       "\n",
       "    .dataframe tbody tr th {\n",
       "        vertical-align: top;\n",
       "    }\n",
       "\n",
       "    .dataframe thead th {\n",
       "        text-align: right;\n",
       "    }\n",
       "</style>\n",
       "<table border=\"1\" class=\"dataframe\">\n",
       "  <thead>\n",
       "    <tr style=\"text-align: right;\">\n",
       "      <th></th>\n",
       "      <th>Date</th>\n",
       "      <th>COV.PA</th>\n",
       "      <th>HO.PA</th>\n",
       "      <th>CWE.PA</th>\n",
       "      <th>ALSTW.PA</th>\n",
       "      <th>TKO.PA</th>\n",
       "      <th>BIM.PA</th>\n",
       "      <th>RBO.PA</th>\n",
       "      <th>TOUP.PA</th>\n",
       "      <th>VIV.PA</th>\n",
       "      <th>...</th>\n",
       "      <th>PAT.PA</th>\n",
       "      <th>LNA.PA</th>\n",
       "      <th>RUI.PA</th>\n",
       "      <th>MHM.PA</th>\n",
       "      <th>ALERS.PA</th>\n",
       "      <th>MDM.PA</th>\n",
       "      <th>SPIE.PA</th>\n",
       "      <th>ALDOL.PA</th>\n",
       "      <th>OSE.PA</th>\n",
       "      <th>FGA.PA</th>\n",
       "    </tr>\n",
       "  </thead>\n",
       "  <tbody>\n",
       "    <tr>\n",
       "      <th>0</th>\n",
       "      <td>2024-01-29 00:00:00+01:00</td>\n",
       "      <td>39.464535</td>\n",
       "      <td>132.767700</td>\n",
       "      <td>377.950012</td>\n",
       "      <td>21.600000</td>\n",
       "      <td>19.568810</td>\n",
       "      <td>99.756111</td>\n",
       "      <td>44.456421</td>\n",
       "      <td>5.318649</td>\n",
       "      <td>10.013842</td>\n",
       "      <td>...</td>\n",
       "      <td>17.103125</td>\n",
       "      <td>18.843531</td>\n",
       "      <td>20.511753</td>\n",
       "      <td>0.8400</td>\n",
       "      <td>15.500000</td>\n",
       "      <td>4.650927</td>\n",
       "      <td>29.064098</td>\n",
       "      <td>3.0</td>\n",
       "      <td>4.010</td>\n",
       "      <td>5.60</td>\n",
       "    </tr>\n",
       "    <tr>\n",
       "      <th>1</th>\n",
       "      <td>2024-01-30 00:00:00+01:00</td>\n",
       "      <td>38.684601</td>\n",
       "      <td>132.477386</td>\n",
       "      <td>377.000000</td>\n",
       "      <td>22.200001</td>\n",
       "      <td>19.383762</td>\n",
       "      <td>98.526382</td>\n",
       "      <td>43.985485</td>\n",
       "      <td>5.262268</td>\n",
       "      <td>10.028461</td>\n",
       "      <td>...</td>\n",
       "      <td>17.197098</td>\n",
       "      <td>18.843531</td>\n",
       "      <td>20.424839</td>\n",
       "      <td>0.8200</td>\n",
       "      <td>15.740000</td>\n",
       "      <td>4.471591</td>\n",
       "      <td>29.352051</td>\n",
       "      <td>3.0</td>\n",
       "      <td>4.085</td>\n",
       "      <td>5.80</td>\n",
       "    </tr>\n",
       "    <tr>\n",
       "      <th>2</th>\n",
       "      <td>2024-01-31 00:00:00+01:00</td>\n",
       "      <td>39.135231</td>\n",
       "      <td>130.977478</td>\n",
       "      <td>377.850006</td>\n",
       "      <td>22.200001</td>\n",
       "      <td>19.615072</td>\n",
       "      <td>98.378815</td>\n",
       "      <td>43.702923</td>\n",
       "      <td>5.224680</td>\n",
       "      <td>10.189267</td>\n",
       "      <td>...</td>\n",
       "      <td>17.197098</td>\n",
       "      <td>18.843531</td>\n",
       "      <td>20.390074</td>\n",
       "      <td>0.7100</td>\n",
       "      <td>16.900000</td>\n",
       "      <td>4.406556</td>\n",
       "      <td>29.467232</td>\n",
       "      <td>2.5</td>\n",
       "      <td>3.915</td>\n",
       "      <td>5.84</td>\n",
       "    </tr>\n",
       "    <tr>\n",
       "      <th>3</th>\n",
       "      <td>2024-02-01 00:00:00+01:00</td>\n",
       "      <td>37.662025</td>\n",
       "      <td>130.783936</td>\n",
       "      <td>373.100006</td>\n",
       "      <td>21.700001</td>\n",
       "      <td>19.337500</td>\n",
       "      <td>100.100441</td>\n",
       "      <td>43.326172</td>\n",
       "      <td>5.243474</td>\n",
       "      <td>10.038207</td>\n",
       "      <td>...</td>\n",
       "      <td>17.009151</td>\n",
       "      <td>18.615124</td>\n",
       "      <td>20.164097</td>\n",
       "      <td>0.7326</td>\n",
       "      <td>17.299999</td>\n",
       "      <td>4.321815</td>\n",
       "      <td>29.601612</td>\n",
       "      <td>5.0</td>\n",
       "      <td>3.805</td>\n",
       "      <td>5.90</td>\n",
       "    </tr>\n",
       "    <tr>\n",
       "      <th>4</th>\n",
       "      <td>2024-02-02 00:00:00+01:00</td>\n",
       "      <td>37.991333</td>\n",
       "      <td>131.267761</td>\n",
       "      <td>371.100006</td>\n",
       "      <td>22.100000</td>\n",
       "      <td>19.383762</td>\n",
       "      <td>98.359138</td>\n",
       "      <td>43.137798</td>\n",
       "      <td>5.036743</td>\n",
       "      <td>10.038207</td>\n",
       "      <td>...</td>\n",
       "      <td>17.103125</td>\n",
       "      <td>19.129042</td>\n",
       "      <td>20.146713</td>\n",
       "      <td>0.6622</td>\n",
       "      <td>17.600000</td>\n",
       "      <td>4.455824</td>\n",
       "      <td>29.275265</td>\n",
       "      <td>4.0</td>\n",
       "      <td>3.720</td>\n",
       "      <td>5.84</td>\n",
       "    </tr>\n",
       "  </tbody>\n",
       "</table>\n",
       "<p>5 rows × 170 columns</p>\n",
       "</div>"
      ],
      "text/plain": [
       "                        Date     COV.PA       HO.PA      CWE.PA   ALSTW.PA  \\\n",
       "0  2024-01-29 00:00:00+01:00  39.464535  132.767700  377.950012  21.600000   \n",
       "1  2024-01-30 00:00:00+01:00  38.684601  132.477386  377.000000  22.200001   \n",
       "2  2024-01-31 00:00:00+01:00  39.135231  130.977478  377.850006  22.200001   \n",
       "3  2024-02-01 00:00:00+01:00  37.662025  130.783936  373.100006  21.700001   \n",
       "4  2024-02-02 00:00:00+01:00  37.991333  131.267761  371.100006  22.100000   \n",
       "\n",
       "      TKO.PA      BIM.PA     RBO.PA   TOUP.PA     VIV.PA  ...     PAT.PA  \\\n",
       "0  19.568810   99.756111  44.456421  5.318649  10.013842  ...  17.103125   \n",
       "1  19.383762   98.526382  43.985485  5.262268  10.028461  ...  17.197098   \n",
       "2  19.615072   98.378815  43.702923  5.224680  10.189267  ...  17.197098   \n",
       "3  19.337500  100.100441  43.326172  5.243474  10.038207  ...  17.009151   \n",
       "4  19.383762   98.359138  43.137798  5.036743  10.038207  ...  17.103125   \n",
       "\n",
       "      LNA.PA     RUI.PA  MHM.PA   ALERS.PA    MDM.PA    SPIE.PA  ALDOL.PA  \\\n",
       "0  18.843531  20.511753  0.8400  15.500000  4.650927  29.064098       3.0   \n",
       "1  18.843531  20.424839  0.8200  15.740000  4.471591  29.352051       3.0   \n",
       "2  18.843531  20.390074  0.7100  16.900000  4.406556  29.467232       2.5   \n",
       "3  18.615124  20.164097  0.7326  17.299999  4.321815  29.601612       5.0   \n",
       "4  19.129042  20.146713  0.6622  17.600000  4.455824  29.275265       4.0   \n",
       "\n",
       "   OSE.PA  FGA.PA  \n",
       "0   4.010    5.60  \n",
       "1   4.085    5.80  \n",
       "2   3.915    5.84  \n",
       "3   3.805    5.90  \n",
       "4   3.720    5.84  \n",
       "\n",
       "[5 rows x 170 columns]"
      ]
     },
     "execution_count": 9,
     "metadata": {},
     "output_type": "execute_result"
    }
   ],
   "source": [
    "tickers_df.head()"
   ]
  },
  {
   "cell_type": "code",
   "execution_count": 10,
   "id": "9bd4a6dc",
   "metadata": {},
   "outputs": [
    {
     "data": {
      "text/plain": [
       "array(['Acquisition', 'Cession', 'Conversion', 'Souscription',\n",
       "       \"ATTRIBUTION D'ACTION A TITRE GRATUIT\",\n",
       "       'APPORT EN NATURE AU CAPITAL DE LA SOCIETE ORIGINE', 'Rachat',\n",
       "       'Paiement du dividende en actions', 'Echange', 'Attribution',\n",
       "       'Acquisition de parts dans le FCPE Saint-Gobain Avenir', 'Prêt',\n",
       "       \"Apport de titres à l'OPA\", 'Exercice', 'Donation',\n",
       "       'Sell to cover', \"Arbitrage dans le plan d'épargne groupe\",\n",
       "       'PAIEMENT DU DIVIDEND EN ACTIONS', 'Attribution gratuite',\n",
       "       'Attribution gratuite de parts de FCPE investi en actions Safran',\n",
       "       \"Attribution d'office\", 'Apport en nature',\n",
       "       'Reclassement interne au groupe Nestlé.',\n",
       "       'Recorrélation du FCP BNPP actionnariat France  no 897',\n",
       "       'Réinvestissement automatique dans le PEE de dividendes',\n",
       "       \"Reinvestissement du dividendes au sein de contrats d'assurance-vie\",\n",
       "       'Attribution de nouvelles actions au titre du dividende payé en actions',\n",
       "       'Paiement de dividendes en actions',\n",
       "       \"Acquisition définitive d'actions gratuites (livraison)\",\n",
       "       'Souscription de parts dans le FCPE Saint-Gobain France équivalent à 1',\n",
       "       'Souscription de parts dans le FCPE Saint-Gobain France équivalent à 4',\n",
       "       \"Présent d'usage\",\n",
       "       'Attribution d’actions au titre de la rémunération long terme approuvée',\n",
       "       \"Attribution d'actions au titre de la rémunération long terme approuvée\",\n",
       "       'Apport de titres a une personne morale',\n",
       "       'LIEU DE LA TRANSACTION : Plusieurs plateformes (voir commentaires) Ces',\n",
       "       \"Attribution d'actions gratuites\",\n",
       "       'TRANSACTION LIEE A L’EXERCICE DE PROGRAMMES D’OPTIONS SUR ACTIONS OU',\n",
       "       'Nantissement', \"Conclusion d'une option d'achat\",\n",
       "       \"Apport à l'OPA\", \"Transfert à titre gratuit d'actions\",\n",
       "       'Avenant n°3 aux contrats à terme prépayés initialement conclus le 20 m',\n",
       "       'TRANSFERT DE TITRES ENTRE DEUX HOLDING', 'donation',\n",
       "       'Apport OPA Semi centralisée', \"Apport a l'OPA\",\n",
       "       'Dation en actions',\n",
       "       'LIEU DE LA TRANSACTION : Euronext Access Paris Cession',\n",
       "       \"APPORT D'ACTIONS\",\n",
       "       \"Acquisition d'actions de perfromance dans le cadre d'un plan LTI\",\n",
       "       'Vente à découvert', 'conclusion d’un contrat financier à terme',\n",
       "       'apport d’actions en capital à une société',\n",
       "       'Reception d’action pour apport en capital',\n",
       "       \"Attribution définitive d'actions de performance par remise d'action au\",\n",
       "       'Contract For Difference (CFD)',\n",
       "       'LIEU DE LA TRANSACTION : Aquis Exchange Europe (AQEU) et CBOE Europe (',\n",
       "       'Cession de parts', 'Acceptation des apports en nature de titres',\n",
       "       'Apports en nature de titres',\n",
       "       'Acceptation de la donation de la nue-propriété de 312 098 actions',\n",
       "       'Acceptation de la donation de la pleine propriété de 1 366 346 actions',\n",
       "       'Apport en nature de titres',\n",
       "       \"Apport en nature d'actions de la société Wendel S.E. à la Société Priv\",\n",
       "       'LIEU DE LA TRANSACTION : Multiplaces Acquisition',\n",
       "       \"bénéficiaire d'une donation\", 'Remboursement',\n",
       "       'remboursement d’un financement par monétisation',\n",
       "       'APPORTS EN NATURE', \"BENEFICIAIRE D'UN APPORT EN NATURE\",\n",
       "       \"Apport en nature d'actions Wendel SE à la société Wendel-Participation\",\n",
       "       'Transfert', 'exercice de BSA',\n",
       "       \"Apport à une offre publique d'acquisition\",\n",
       "       'LIEU DE LA TRANSACTION : Titres traités dans les dark-pools Acquisitio',\n",
       "       'OFFRE PUBLIQUE DE RETRAIT SUVIE D’UN RETRAIT OBLIGATOIRE',\n",
       "       'PROJET D’OFFRE PUBLIQUE DE RETRAIT SUIVIE D’UN RETRAIT OBLIGATOIRE VIS',\n",
       "       'LIEU DE LA TRANSACTION : Titres traités dans les dark pools Acquisitio'],\n",
       "      dtype=object)"
      ]
     },
     "execution_count": 10,
     "metadata": {},
     "output_type": "execute_result"
    }
   ],
   "source": [
    "df['operation'].unique()"
   ]
  },
  {
   "cell_type": "code",
   "execution_count": 11,
   "id": "cf41cbe5",
   "metadata": {},
   "outputs": [
    {
     "ename": "ValueError",
     "evalue": "Mime type rendering requires nbformat>=4.2.0 but it is not installed",
     "output_type": "error",
     "traceback": [
      "\u001b[0;31m---------------------------------------------------------------------------\u001b[0m",
      "\u001b[0;31mValueError\u001b[0m                                Traceback (most recent call last)",
      "File \u001b[0;32m~/miniconda3/envs/gpt_pursuit/lib/python3.11/site-packages/IPython/core/formatters.py:984\u001b[0m, in \u001b[0;36mIPythonDisplayFormatter.__call__\u001b[0;34m(self, obj)\u001b[0m\n\u001b[1;32m    982\u001b[0m method \u001b[38;5;241m=\u001b[39m get_real_method(obj, \u001b[38;5;28mself\u001b[39m\u001b[38;5;241m.\u001b[39mprint_method)\n\u001b[1;32m    983\u001b[0m \u001b[38;5;28;01mif\u001b[39;00m method \u001b[38;5;129;01mis\u001b[39;00m \u001b[38;5;129;01mnot\u001b[39;00m \u001b[38;5;28;01mNone\u001b[39;00m:\n\u001b[0;32m--> 984\u001b[0m     \u001b[43mmethod\u001b[49m\u001b[43m(\u001b[49m\u001b[43m)\u001b[49m\n\u001b[1;32m    985\u001b[0m     \u001b[38;5;28;01mreturn\u001b[39;00m \u001b[38;5;28;01mTrue\u001b[39;00m\n",
      "File \u001b[0;32m~/miniconda3/envs/gpt_pursuit/lib/python3.11/site-packages/plotly/basedatatypes.py:850\u001b[0m, in \u001b[0;36mBaseFigure._ipython_display_\u001b[0;34m(self)\u001b[0m\n\u001b[1;32m    847\u001b[0m \u001b[38;5;28;01mimport\u001b[39;00m\u001b[38;5;250m \u001b[39m\u001b[38;5;21;01mplotly\u001b[39;00m\u001b[38;5;21;01m.\u001b[39;00m\u001b[38;5;21;01mio\u001b[39;00m\u001b[38;5;250m \u001b[39m\u001b[38;5;28;01mas\u001b[39;00m\u001b[38;5;250m \u001b[39m\u001b[38;5;21;01mpio\u001b[39;00m\n\u001b[1;32m    849\u001b[0m \u001b[38;5;28;01mif\u001b[39;00m pio\u001b[38;5;241m.\u001b[39mrenderers\u001b[38;5;241m.\u001b[39mrender_on_display \u001b[38;5;129;01mand\u001b[39;00m pio\u001b[38;5;241m.\u001b[39mrenderers\u001b[38;5;241m.\u001b[39mdefault:\n\u001b[0;32m--> 850\u001b[0m     \u001b[43mpio\u001b[49m\u001b[38;5;241;43m.\u001b[39;49m\u001b[43mshow\u001b[49m\u001b[43m(\u001b[49m\u001b[38;5;28;43mself\u001b[39;49m\u001b[43m)\u001b[49m\n\u001b[1;32m    851\u001b[0m \u001b[38;5;28;01melse\u001b[39;00m:\n\u001b[1;32m    852\u001b[0m     \u001b[38;5;28mprint\u001b[39m(\u001b[38;5;28mrepr\u001b[39m(\u001b[38;5;28mself\u001b[39m))\n",
      "File \u001b[0;32m~/miniconda3/envs/gpt_pursuit/lib/python3.11/site-packages/plotly/io/_renderers.py:415\u001b[0m, in \u001b[0;36mshow\u001b[0;34m(fig, renderer, validate, **kwargs)\u001b[0m\n\u001b[1;32m    410\u001b[0m     \u001b[38;5;28;01mraise\u001b[39;00m \u001b[38;5;167;01mValueError\u001b[39;00m(\n\u001b[1;32m    411\u001b[0m         \u001b[38;5;124m\"\u001b[39m\u001b[38;5;124mMime type rendering requires ipython but it is not installed\u001b[39m\u001b[38;5;124m\"\u001b[39m\n\u001b[1;32m    412\u001b[0m     )\n\u001b[1;32m    414\u001b[0m \u001b[38;5;28;01mif\u001b[39;00m \u001b[38;5;129;01mnot\u001b[39;00m nbformat \u001b[38;5;129;01mor\u001b[39;00m Version(nbformat\u001b[38;5;241m.\u001b[39m__version__) \u001b[38;5;241m<\u001b[39m Version(\u001b[38;5;124m\"\u001b[39m\u001b[38;5;124m4.2.0\u001b[39m\u001b[38;5;124m\"\u001b[39m):\n\u001b[0;32m--> 415\u001b[0m     \u001b[38;5;28;01mraise\u001b[39;00m \u001b[38;5;167;01mValueError\u001b[39;00m(\n\u001b[1;32m    416\u001b[0m         \u001b[38;5;124m\"\u001b[39m\u001b[38;5;124mMime type rendering requires nbformat>=4.2.0 but it is not installed\u001b[39m\u001b[38;5;124m\"\u001b[39m\n\u001b[1;32m    417\u001b[0m     )\n\u001b[1;32m    419\u001b[0m display_jupyter_version_warnings()\n\u001b[1;32m    421\u001b[0m ipython_display\u001b[38;5;241m.\u001b[39mdisplay(bundle, raw\u001b[38;5;241m=\u001b[39m\u001b[38;5;28;01mTrue\u001b[39;00m)\n",
      "\u001b[0;31mValueError\u001b[0m: Mime type rendering requires nbformat>=4.2.0 but it is not installed"
     ]
    },
    {
     "data": {
      "application/vnd.plotly.v1+json": {
       "config": {
        "plotlyServerURL": "https://plot.ly"
       },
       "data": [
        {
         "hovertemplate": "<b>Date:</b> %{x}<br><b>Price:</b> %{y:.2f}<extra></extra>",
         "line": {
          "color": "#1f77b4",
          "width": 2
         },
         "mode": "lines",
         "name": "Price",
         "type": "scatter",
         "x": {
          "bdata": "AAABAAIAAwAEAAUABgAHAAgACQAKAAsADAANAA4ADwAQABEAEgATABQAFQAWABcAGAAZABoAGwAcAB0AHgAfACAAIQAiACMAJAAlACYAJwAoACkAKgArACwALQAuAC8AMAAxADIAMwA0ADUANgA3ADgAOQA6ADsAPAA9AD4APwBAAEEAQgBDAEQARQBGAEcASABJAEoASwBMAE0ATgBPAFAAUQBSAFMAVABVAFYAVwBYAFkAWgBbAFwAXQBeAF8AYABhAGIAYwBkAGUAZgBnAGgAaQBqAGsAbABtAG4AbwBwAHEAcgBzAHQAdQB2AHcAeAB5AHoAewB8AH0AfgB/AIAAgQCCAIMAhACFAIYAhwCIAIkAigCLAIwAjQCOAI8AkACRAJIAkwCUAJUAlgCXAJgAmQCaAJsAnACdAJ4AnwCgAKEAogCjAKQApQCmAKcAqACpAKoAqwCsAK0ArgCvALAAsQCyALMAtAC1ALYAtwC4ALkAugC7ALwAvQC+AL8AwADBAMIAwwDEAMUAxgDHAMgAyQDKAMsAzADNAM4AzwDQANEA0gDTANQA1QDWANcA2ADZANoA2wDcAN0A3gDfAOAA4QDiAOMA5ADlAOYA5wDoAOkA6gDrAOwA7QDuAO8A8ADxAPIA8wD0APUA9gD3APgA+QD6APsA/AD9AP4A/wAAAQEBAgEDAQQBBQEGAQcBCAEJAQoBCwEMAQ0BDgEPARABEQESARMBFAEVARYBFwEYARkBGgEbARwBHQEeAR8BIAEhASIBIwEkASUBJgEnASgBKQEqASsBLAEtAS4BLwEwATEBMgEzATQBNQE2ATcBOAE5AToBOwE8AT0BPgE/AUABQQFCAUMBRAFFAUYBRwFIAUkBSgFLAUwBTQFOAU8BUAFRAVIBUwFUAVUBVgFXAVgBWQFaAVsBXAFdAV4BXwFgAWEBYgFjAWQBZQFmAWcBaAFpAWoBawFsAW0BbgFvAXABcQFyAXMBdAF1AXYBdwF4AXkBegF7AXwB",
          "dtype": "i2"
         },
         "y": {
          "bdata": "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",
          "dtype": "f8"
         }
        },
        {
         "customdata": [
          [
           "Acquisition",
           1,
           222.02,
           "Auteur:Sébastien BROWN, ADMINISTRATEUR REPRÉSENTANT LES SALARIÉS"
          ],
          [
           "Acquisition",
           17,
           3774.34,
           "Auteur:Francesco MILLERI, CHAIRMAN AND CEO"
          ],
          [
           "Acquisition",
           69,
           15319.38,
           "Auteur:Jean-Luc BIAMONTI, Administrateur référent (indépendant)"
          ],
          [
           "Acquisition",
           227,
           50398.54,
           "Auteur:Virginie PITRE MERCIER, ADMINISTRATRICE REPRÉSENTANT L’ASSOCIATION VALOPTEC"
          ],
          [
           "Acquisition",
           6687,
           1484647.74,
           "Auteur:Paul DU SAILLANT, DIRECTEUR GÉNÉRAL DÉLÉGUÉ"
          ],
          [
           "Acquisition",
           9772,
           2169579.44,
           "Auteur:MILLERI SRL SRL personne morale liée à Milleri Srl, Personne morale liée à Francesco Milleri Président Directeur Général"
          ],
          [
           "Acquisition",
           1959141,
           499992374.61,
           "Auteur:Bpifrance Participations SA personne morale liée à JOSE GONZALO, ADMINISTRATEUR"
          ],
          [
           "Acquisition",
           78,
           13959.66,
           "Auteur:Virginie PITRE MERCIER, ADMINISTRATRICE REPRÉSENTANT L’ASSOCIATION VALOPTEC"
          ],
          [
           "Acquisition",
           109,
           19507.73,
           "Auteur:Sébastien BROWN, ADMINISTRATEUR REPRÉSENTANT LES SALARIÉS"
          ],
          [
           "Acquisition",
           285,
           51006.45,
           "Auteur:Margot BARD, ADMINISTRATEUR REPRÉSENTANT LES SALARIÉS"
          ],
          [
           "Acquisition",
           698,
           124921.06,
           "Auteur:Paul DU SAILLANT, DIRECTEUR GÉNÉRAL DÉLÉGUÉ"
          ],
          [
           "Acquisition",
           450522,
           103138001.46,
           "Auteur:MILLERI SRL SRL personne morale liée à Milleri Srl, Personne morale liée à Francesco Milleri Président Directeur Général"
          ],
          [
           "Acquisition",
           3250,
           693875,
           "Auteur:ROMOLO BARDIN, membre du Conseil d’Administration de EssilorLuxottica"
          ],
          [
           "Acquisition",
           41400,
           8901000,
           "Auteur:MILLERI SRL Srl personne morale liée à Milleri Srl, Personne morale liée à Francesco Milleri Président Directeur Général"
          ]
         ],
         "hovertemplate": "<b>Date:</b> %{x}<br><b>Operation:</b> %{customdata[0]}<br><b>Price:</b> %{y:.2f}€<br><b>Quantity:</b> %{customdata[1]:,.0f}<br><b>Total Value:</b> %{customdata[2]:,.0f}€<br><b>Author:</b> %{customdata[3]}<extra></extra>",
         "marker": {
          "color": "#2ca02c",
          "line": {
           "color": "white",
           "width": 1
          },
          "opacity": 0.8,
          "size": {
           "bdata": "u6YVrQIAFEBkEnB+LQAUQEzw1aa4ABRAeNcyel8CFEBuJI4o50UUQDZbePYmZhRAAAAAAAAAOUDbzJi80AAUQHT9N7IjARRAwJ0asfoCFEDNmAjtSwcUQPQXhpTHMiNAD63eXPkhFEAnMmsFx7AVQA==",
           "dtype": "f8"
          }
         },
         "mode": "markers",
         "name": "Buy Operations",
         "type": "scatter",
         "x": [
          "2025-06-05T00:00:00.000000000",
          "2025-06-05T00:00:00.000000000",
          "2025-06-05T00:00:00.000000000",
          "2025-06-05T00:00:00.000000000",
          "2025-06-05T00:00:00.000000000",
          "2025-06-05T00:00:00.000000000",
          "2025-05-27T00:00:00.000000000",
          "2024-12-18T00:00:00.000000000",
          "2024-12-18T00:00:00.000000000",
          "2024-12-18T00:00:00.000000000",
          "2024-12-18T00:00:00.000000000",
          "2024-12-02T00:00:00.000000000",
          "2024-10-30T00:00:00.000000000",
          "2024-10-29T00:00:00.000000000"
         ],
         "y": {
          "bdata": "cT0K16PAa0BxPQrXo8BrQHE9CtejwGtAcT0K16PAa0BxPQrXo8BrQHE9CtejwGtAH4XrUbjmb0DXo3A9Cl9mQNejcD0KX2ZA16NwPQpfZkDXo3A9Cl9mQPYoXI/CnWxAAAAAAACwakAAAAAAAOBqQA==",
          "dtype": "f8"
         }
        },
        {
         "customdata": [
          [
           "Cession",
           1959141,
           499992374.61,
           "Auteur:BPIFRANCE INVESTISSEMENT SAS personne morale liée à JOSE GONZALO, ADMINISTRATEUR"
          ],
          [
           "Cession",
           19975,
           4613226.25,
           "Auteur:Paul  du Saillant, Directeur Général Délégué"
          ],
          [
           "Cession",
           450522,
           103138001.46,
           "Auteur:Francesco MILLERI, CHAIRMAN AND CEO"
          ],
          [
           "Cession",
           41400,
           8901000,
           "Auteur:Francesco MILLERI, CHAIRMAN AND CEO"
          ],
          [
           "Cession",
           8600,
           1878842,
           "Auteur:Francesco MILLERI, CHAIRMAN AND CEO"
          ]
         ],
         "hovertemplate": "<b>Date:</b> %{x}<br><b>Operation:</b> %{customdata[0]}<br><b>Price:</b> %{y:.2f}€<br><b>Quantity:</b> %{customdata[1]:,.0f}<br><b>Total Value:</b> %{customdata[2]:,.0f}€<br><b>Author:</b> %{customdata[3]}<extra></extra>",
         "marker": {
          "color": "#d62728",
          "line": {
           "color": "white",
           "width": 1
          },
          "opacity": 0.8,
          "size": {
           "bdata": "AAAAAAAAOUCYamRUz9AUQPQXhpTHMiNAJzJrBcewFUDkDFmP5lkUQA==",
           "dtype": "f8"
          }
         },
         "mode": "markers",
         "name": "Sell Operations",
         "type": "scatter",
         "x": [
          "2025-05-27T00:00:00.000000000",
          "2024-12-27T00:00:00.000000000",
          "2024-12-02T00:00:00.000000000",
          "2024-10-29T00:00:00.000000000",
          "2024-10-29T00:00:00.000000000"
         ],
         "y": {
          "bdata": "H4XrUbjmb0BmZmZmZt5sQPYoXI/CnWxAAAAAAADgakDXo3A9Ck9rQA==",
          "dtype": "f8"
         }
        }
       ],
       "layout": {
        "height": 600,
        "hovermode": "x unified",
        "showlegend": true,
        "template": {
         "data": {
          "bar": [
           {
            "error_x": {
             "color": "#2a3f5f"
            },
            "error_y": {
             "color": "#2a3f5f"
            },
            "marker": {
             "line": {
              "color": "white",
              "width": 0.5
             },
             "pattern": {
              "fillmode": "overlay",
              "size": 10,
              "solidity": 0.2
             }
            },
            "type": "bar"
           }
          ],
          "barpolar": [
           {
            "marker": {
             "line": {
              "color": "white",
              "width": 0.5
             },
             "pattern": {
              "fillmode": "overlay",
              "size": 10,
              "solidity": 0.2
             }
            },
            "type": "barpolar"
           }
          ],
          "carpet": [
           {
            "aaxis": {
             "endlinecolor": "#2a3f5f",
             "gridcolor": "#C8D4E3",
             "linecolor": "#C8D4E3",
             "minorgridcolor": "#C8D4E3",
             "startlinecolor": "#2a3f5f"
            },
            "baxis": {
             "endlinecolor": "#2a3f5f",
             "gridcolor": "#C8D4E3",
             "linecolor": "#C8D4E3",
             "minorgridcolor": "#C8D4E3",
             "startlinecolor": "#2a3f5f"
            },
            "type": "carpet"
           }
          ],
          "choropleth": [
           {
            "colorbar": {
             "outlinewidth": 0,
             "ticks": ""
            },
            "type": "choropleth"
           }
          ],
          "contour": [
           {
            "colorbar": {
             "outlinewidth": 0,
             "ticks": ""
            },
            "colorscale": [
             [
              0,
              "#0d0887"
             ],
             [
              0.1111111111111111,
              "#46039f"
             ],
             [
              0.2222222222222222,
              "#7201a8"
             ],
             [
              0.3333333333333333,
              "#9c179e"
             ],
             [
              0.4444444444444444,
              "#bd3786"
             ],
             [
              0.5555555555555556,
              "#d8576b"
             ],
             [
              0.6666666666666666,
              "#ed7953"
             ],
             [
              0.7777777777777778,
              "#fb9f3a"
             ],
             [
              0.8888888888888888,
              "#fdca26"
             ],
             [
              1,
              "#f0f921"
             ]
            ],
            "type": "contour"
           }
          ],
          "contourcarpet": [
           {
            "colorbar": {
             "outlinewidth": 0,
             "ticks": ""
            },
            "type": "contourcarpet"
           }
          ],
          "heatmap": [
           {
            "colorbar": {
             "outlinewidth": 0,
             "ticks": ""
            },
            "colorscale": [
             [
              0,
              "#0d0887"
             ],
             [
              0.1111111111111111,
              "#46039f"
             ],
             [
              0.2222222222222222,
              "#7201a8"
             ],
             [
              0.3333333333333333,
              "#9c179e"
             ],
             [
              0.4444444444444444,
              "#bd3786"
             ],
             [
              0.5555555555555556,
              "#d8576b"
             ],
             [
              0.6666666666666666,
              "#ed7953"
             ],
             [
              0.7777777777777778,
              "#fb9f3a"
             ],
             [
              0.8888888888888888,
              "#fdca26"
             ],
             [
              1,
              "#f0f921"
             ]
            ],
            "type": "heatmap"
           }
          ],
          "histogram": [
           {
            "marker": {
             "pattern": {
              "fillmode": "overlay",
              "size": 10,
              "solidity": 0.2
             }
            },
            "type": "histogram"
           }
          ],
          "histogram2d": [
           {
            "colorbar": {
             "outlinewidth": 0,
             "ticks": ""
            },
            "colorscale": [
             [
              0,
              "#0d0887"
             ],
             [
              0.1111111111111111,
              "#46039f"
             ],
             [
              0.2222222222222222,
              "#7201a8"
             ],
             [
              0.3333333333333333,
              "#9c179e"
             ],
             [
              0.4444444444444444,
              "#bd3786"
             ],
             [
              0.5555555555555556,
              "#d8576b"
             ],
             [
              0.6666666666666666,
              "#ed7953"
             ],
             [
              0.7777777777777778,
              "#fb9f3a"
             ],
             [
              0.8888888888888888,
              "#fdca26"
             ],
             [
              1,
              "#f0f921"
             ]
            ],
            "type": "histogram2d"
           }
          ],
          "histogram2dcontour": [
           {
            "colorbar": {
             "outlinewidth": 0,
             "ticks": ""
            },
            "colorscale": [
             [
              0,
              "#0d0887"
             ],
             [
              0.1111111111111111,
              "#46039f"
             ],
             [
              0.2222222222222222,
              "#7201a8"
             ],
             [
              0.3333333333333333,
              "#9c179e"
             ],
             [
              0.4444444444444444,
              "#bd3786"
             ],
             [
              0.5555555555555556,
              "#d8576b"
             ],
             [
              0.6666666666666666,
              "#ed7953"
             ],
             [
              0.7777777777777778,
              "#fb9f3a"
             ],
             [
              0.8888888888888888,
              "#fdca26"
             ],
             [
              1,
              "#f0f921"
             ]
            ],
            "type": "histogram2dcontour"
           }
          ],
          "mesh3d": [
           {
            "colorbar": {
             "outlinewidth": 0,
             "ticks": ""
            },
            "type": "mesh3d"
           }
          ],
          "parcoords": [
           {
            "line": {
             "colorbar": {
              "outlinewidth": 0,
              "ticks": ""
             }
            },
            "type": "parcoords"
           }
          ],
          "pie": [
           {
            "automargin": true,
            "type": "pie"
           }
          ],
          "scatter": [
           {
            "fillpattern": {
             "fillmode": "overlay",
             "size": 10,
             "solidity": 0.2
            },
            "type": "scatter"
           }
          ],
          "scatter3d": [
           {
            "line": {
             "colorbar": {
              "outlinewidth": 0,
              "ticks": ""
             }
            },
            "marker": {
             "colorbar": {
              "outlinewidth": 0,
              "ticks": ""
             }
            },
            "type": "scatter3d"
           }
          ],
          "scattercarpet": [
           {
            "marker": {
             "colorbar": {
              "outlinewidth": 0,
              "ticks": ""
             }
            },
            "type": "scattercarpet"
           }
          ],
          "scattergeo": [
           {
            "marker": {
             "colorbar": {
              "outlinewidth": 0,
              "ticks": ""
             }
            },
            "type": "scattergeo"
           }
          ],
          "scattergl": [
           {
            "marker": {
             "colorbar": {
              "outlinewidth": 0,
              "ticks": ""
             }
            },
            "type": "scattergl"
           }
          ],
          "scattermap": [
           {
            "marker": {
             "colorbar": {
              "outlinewidth": 0,
              "ticks": ""
             }
            },
            "type": "scattermap"
           }
          ],
          "scattermapbox": [
           {
            "marker": {
             "colorbar": {
              "outlinewidth": 0,
              "ticks": ""
             }
            },
            "type": "scattermapbox"
           }
          ],
          "scatterpolar": [
           {
            "marker": {
             "colorbar": {
              "outlinewidth": 0,
              "ticks": ""
             }
            },
            "type": "scatterpolar"
           }
          ],
          "scatterpolargl": [
           {
            "marker": {
             "colorbar": {
              "outlinewidth": 0,
              "ticks": ""
             }
            },
            "type": "scatterpolargl"
           }
          ],
          "scatterternary": [
           {
            "marker": {
             "colorbar": {
              "outlinewidth": 0,
              "ticks": ""
             }
            },
            "type": "scatterternary"
           }
          ],
          "surface": [
           {
            "colorbar": {
             "outlinewidth": 0,
             "ticks": ""
            },
            "colorscale": [
             [
              0,
              "#0d0887"
             ],
             [
              0.1111111111111111,
              "#46039f"
             ],
             [
              0.2222222222222222,
              "#7201a8"
             ],
             [
              0.3333333333333333,
              "#9c179e"
             ],
             [
              0.4444444444444444,
              "#bd3786"
             ],
             [
              0.5555555555555556,
              "#d8576b"
             ],
             [
              0.6666666666666666,
              "#ed7953"
             ],
             [
              0.7777777777777778,
              "#fb9f3a"
             ],
             [
              0.8888888888888888,
              "#fdca26"
             ],
             [
              1,
              "#f0f921"
             ]
            ],
            "type": "surface"
           }
          ],
          "table": [
           {
            "cells": {
             "fill": {
              "color": "#EBF0F8"
             },
             "line": {
              "color": "white"
             }
            },
            "header": {
             "fill": {
              "color": "#C8D4E3"
             },
             "line": {
              "color": "white"
             }
            },
            "type": "table"
           }
          ]
         },
         "layout": {
          "annotationdefaults": {
           "arrowcolor": "#2a3f5f",
           "arrowhead": 0,
           "arrowwidth": 1
          },
          "autotypenumbers": "strict",
          "coloraxis": {
           "colorbar": {
            "outlinewidth": 0,
            "ticks": ""
           }
          },
          "colorscale": {
           "diverging": [
            [
             0,
             "#8e0152"
            ],
            [
             0.1,
             "#c51b7d"
            ],
            [
             0.2,
             "#de77ae"
            ],
            [
             0.3,
             "#f1b6da"
            ],
            [
             0.4,
             "#fde0ef"
            ],
            [
             0.5,
             "#f7f7f7"
            ],
            [
             0.6,
             "#e6f5d0"
            ],
            [
             0.7,
             "#b8e186"
            ],
            [
             0.8,
             "#7fbc41"
            ],
            [
             0.9,
             "#4d9221"
            ],
            [
             1,
             "#276419"
            ]
           ],
           "sequential": [
            [
             0,
             "#0d0887"
            ],
            [
             0.1111111111111111,
             "#46039f"
            ],
            [
             0.2222222222222222,
             "#7201a8"
            ],
            [
             0.3333333333333333,
             "#9c179e"
            ],
            [
             0.4444444444444444,
             "#bd3786"
            ],
            [
             0.5555555555555556,
             "#d8576b"
            ],
            [
             0.6666666666666666,
             "#ed7953"
            ],
            [
             0.7777777777777778,
             "#fb9f3a"
            ],
            [
             0.8888888888888888,
             "#fdca26"
            ],
            [
             1,
             "#f0f921"
            ]
           ],
           "sequentialminus": [
            [
             0,
             "#0d0887"
            ],
            [
             0.1111111111111111,
             "#46039f"
            ],
            [
             0.2222222222222222,
             "#7201a8"
            ],
            [
             0.3333333333333333,
             "#9c179e"
            ],
            [
             0.4444444444444444,
             "#bd3786"
            ],
            [
             0.5555555555555556,
             "#d8576b"
            ],
            [
             0.6666666666666666,
             "#ed7953"
            ],
            [
             0.7777777777777778,
             "#fb9f3a"
            ],
            [
             0.8888888888888888,
             "#fdca26"
            ],
            [
             1,
             "#f0f921"
            ]
           ]
          },
          "colorway": [
           "#636efa",
           "#EF553B",
           "#00cc96",
           "#ab63fa",
           "#FFA15A",
           "#19d3f3",
           "#FF6692",
           "#B6E880",
           "#FF97FF",
           "#FECB52"
          ],
          "font": {
           "color": "#2a3f5f"
          },
          "geo": {
           "bgcolor": "white",
           "lakecolor": "white",
           "landcolor": "white",
           "showlakes": true,
           "showland": true,
           "subunitcolor": "#C8D4E3"
          },
          "hoverlabel": {
           "align": "left"
          },
          "hovermode": "closest",
          "mapbox": {
           "style": "light"
          },
          "paper_bgcolor": "white",
          "plot_bgcolor": "white",
          "polar": {
           "angularaxis": {
            "gridcolor": "#EBF0F8",
            "linecolor": "#EBF0F8",
            "ticks": ""
           },
           "bgcolor": "white",
           "radialaxis": {
            "gridcolor": "#EBF0F8",
            "linecolor": "#EBF0F8",
            "ticks": ""
           }
          },
          "scene": {
           "xaxis": {
            "backgroundcolor": "white",
            "gridcolor": "#DFE8F3",
            "gridwidth": 2,
            "linecolor": "#EBF0F8",
            "showbackground": true,
            "ticks": "",
            "zerolinecolor": "#EBF0F8"
           },
           "yaxis": {
            "backgroundcolor": "white",
            "gridcolor": "#DFE8F3",
            "gridwidth": 2,
            "linecolor": "#EBF0F8",
            "showbackground": true,
            "ticks": "",
            "zerolinecolor": "#EBF0F8"
           },
           "zaxis": {
            "backgroundcolor": "white",
            "gridcolor": "#DFE8F3",
            "gridwidth": 2,
            "linecolor": "#EBF0F8",
            "showbackground": true,
            "ticks": "",
            "zerolinecolor": "#EBF0F8"
           }
          },
          "shapedefaults": {
           "line": {
            "color": "#2a3f5f"
           }
          },
          "ternary": {
           "aaxis": {
            "gridcolor": "#DFE8F3",
            "linecolor": "#A2B1C6",
            "ticks": ""
           },
           "baxis": {
            "gridcolor": "#DFE8F3",
            "linecolor": "#A2B1C6",
            "ticks": ""
           },
           "bgcolor": "white",
           "caxis": {
            "gridcolor": "#DFE8F3",
            "linecolor": "#A2B1C6",
            "ticks": ""
           }
          },
          "title": {
           "x": 0.05
          },
          "xaxis": {
           "automargin": true,
           "gridcolor": "#EBF0F8",
           "linecolor": "#EBF0F8",
           "ticks": "",
           "title": {
            "standoff": 15
           },
           "zerolinecolor": "#EBF0F8",
           "zerolinewidth": 2
          },
          "yaxis": {
           "automargin": true,
           "gridcolor": "#EBF0F8",
           "linecolor": "#EBF0F8",
           "ticks": "",
           "title": {
            "standoff": 15
           },
           "zerolinecolor": "#EBF0F8",
           "zerolinewidth": 2
          }
         }
        },
        "title": {
         "font": {
          "size": 20
         },
         "text": "EssilorLuxottica Insider Trading Activity vs Price",
         "x": 0.5
        },
        "xaxis": {
         "gridcolor": "rgba(128, 128, 128, 0.2)",
         "showgrid": true,
         "title": {
          "text": "Date"
         }
        },
        "yaxis": {
         "gridcolor": "rgba(128, 128, 128, 0.2)",
         "showgrid": true,
         "title": {
          "text": "Price (€)"
         }
        }
       }
      },
      "text/html": [
       "<div>                        <script type=\"text/javascript\">window.PlotlyConfig = {MathJaxConfig: 'local'};</script>\n",
       "        <script charset=\"utf-8\" src=\"https://cdn.plot.ly/plotly-3.0.1.min.js\" integrity=\"sha256-oy6Be7Eh6eiQFs5M7oXuPxxm9qbJXEtTpfSI93dW16Q=\" crossorigin=\"anonymous\"></script>                <div id=\"d7cfb929-aabb-472f-b253-2843bc98c8f3\" class=\"plotly-graph-div\" style=\"height:600px; width:100%;\"></div>            <script type=\"text/javascript\">                window.PLOTLYENV=window.PLOTLYENV || {};                                if (document.getElementById(\"d7cfb929-aabb-472f-b253-2843bc98c8f3\")) {                    Plotly.newPlot(                        \"d7cfb929-aabb-472f-b253-2843bc98c8f3\",                        [{\"hovertemplate\":\"\\u003cb\\u003eDate:\\u003c\\u002fb\\u003e %{x}\\u003cbr\\u003e\\u003cb\\u003ePrice:\\u003c\\u002fb\\u003e %{y:.2f}\\u003cextra\\u003e\\u003c\\u002fextra\\u003e\",\"line\":{\"color\":\"#1f77b4\",\"width\":2},\"mode\":\"lines\",\"name\":\"Price\",\"x\":{\"dtype\":\"i2\",\"bdata\":\"AAABAAIAAwAEAAUABgAHAAgACQAKAAsADAANAA4ADwAQABEAEgATABQAFQAWABcAGAAZABoAGwAcAB0AHgAfACAAIQAiACMAJAAlACYAJwAoACkAKgArACwALQAuAC8AMAAxADIAMwA0ADUANgA3ADgAOQA6ADsAPAA9AD4APwBAAEEAQgBDAEQARQBGAEcASABJAEoASwBMAE0ATgBPAFAAUQBSAFMAVABVAFYAVwBYAFkAWgBbAFwAXQBeAF8AYABhAGIAYwBkAGUAZgBnAGgAaQBqAGsAbABtAG4AbwBwAHEAcgBzAHQAdQB2AHcAeAB5AHoAewB8AH0AfgB\\u002fAIAAgQCCAIMAhACFAIYAhwCIAIkAigCLAIwAjQCOAI8AkACRAJIAkwCUAJUAlgCXAJgAmQCaAJsAnACdAJ4AnwCgAKEAogCjAKQApQCmAKcAqACpAKoAqwCsAK0ArgCvALAAsQCyALMAtAC1ALYAtwC4ALkAugC7ALwAvQC+AL8AwADBAMIAwwDEAMUAxgDHAMgAyQDKAMsAzADNAM4AzwDQANEA0gDTANQA1QDWANcA2ADZANoA2wDcAN0A3gDfAOAA4QDiAOMA5ADlAOYA5wDoAOkA6gDrAOwA7QDuAO8A8ADxAPIA8wD0APUA9gD3APgA+QD6APsA\\u002fAD9AP4A\\u002fwAAAQEBAgEDAQQBBQEGAQcBCAEJAQoBCwEMAQ0BDgEPARABEQESARMBFAEVARYBFwEYARkBGgEbARwBHQEeAR8BIAEhASIBIwEkASUBJgEnASgBKQEqASsBLAEtAS4BLwEwATEBMgEzATQBNQE2ATcBOAE5AToBOwE8AT0BPgE\\u002fAUABQQFCAUMBRAFFAUYBRwFIAUkBSgFLAUwBTQFOAU8BUAFRAVIBUwFUAVUBVgFXAVgBWQFaAVsBXAFdAV4BXwFgAWEBYgFjAWQBZQFmAWcBaAFpAWoBawFsAW0BbgFvAXABcQFyAXMBdAF1AXYBdwF4AXkBegF7AXwB\"},\"y\":{\"dtype\":\"f8\",\"bdata\":\"AAAAwC1\\u002fZUAAAACAV5dlQAAAAOAygmVAAAAAIK2NZUAAAADgeVJlQAAAAMAzZWVAAAAAYLawZUAAAAAgOt9lQAAAACB+BmZAAAAAYGw3ZkAAAABg+YhmQAAAACAMO2ZAAAAAQISAZkAAAACA\\u002fDFmQAAAAADYHGZAAAAAoLtHZkAAAABgET5mQAAAAADbWWZAAAAAYM2qZkD+\\u002f\\u002f8\\u002fQO1mQP\\u002f\\u002f\\u002f7\\u002fq9mZAAAAAACQYZ0ABAABAPURnQAAAAMDTJGdAAAAAYLdPZ0D\\u002f\\u002f\\u002f\\u002ffT4pnQP\\u002f\\u002f\\u002fz+bxGdAAAAAoKXKZ0AAAACgAwFoQAAAAOBmOmhAAAAAoEcoaEAAAACg6TtoQP\\u002f\\u002f\\u002fz8TVGhA\\u002f\\u002f\\u002f\\u002f33uQaEABAABAtbFoQAAAAGBCb2hAAAAAYM\\u002fAaEAAAAAg38loQAAAAMB72mhAAQAA4JWfaED\\u002f\\u002f\\u002f9\\u002fR7xoQAEAAMBMv2hAAAAAQIbgaEABAAAgyr1oQP\\u002f\\u002f\\u002f3+LmWhA\\u002f\\u002f\\u002f\\u002fv+7SaED\\u002f\\u002f\\u002f8f9EFoQP\\u002f\\u002f\\u002f997\\u002fGdA\\u002f\\u002f\\u002f\\u002f3zdpaEAAAACgkAhoQAAAAIAYw2dAAAAAoHb5Z0AAAADAYe1nQAEAAOCVC2hA\\u002f\\u002f\\u002f\\u002f33v8Z0ABAAAgDr1nQAAAAADFJmhA\\u002f\\u002f\\u002f\\u002f33v8Z0D+\\u002f\\u002f8\\u002fbPNnQAAAAEDKKWhAAAAAAMUmaEAAAAAAI8lnQP\\u002f\\u002f\\u002f997\\u002fGdAAAAAACPJZ0ABAABA+bBnQAAAAAAJumdA\\u002f\\u002f\\u002f\\u002f3zfVZ0AAAADgxGhoQAAAAKBXMmlAAQAAQCUZaUAAAAAAiktpQAEAAMD8VGlA\\u002fv\\u002f\\u002fP7BOaUAAAACgY0hpQP\\u002f\\u002f\\u002fz9HmmlA\\u002fv\\u002f\\u002fP7xkaUD\\u002f\\u002f\\u002f+\\u002fBqppQAAAAMCFyWlA\\u002f\\u002f\\u002f\\u002fvxLAaUABAAAguqNpQAAAAGBfxmlAAAAAgG2daUAAAADgHtZpQAAAAOAIa2lAAAAA4PL\\u002faEABAADA5ChpQAAAACAXQmlAAQAAwPA+aUAAAAAgF0JpQAAAAIBtnWlAAAAAYNSQaUAAAABgU7BpQAAAAGDUkGlAAAAAICNYaUAAAAAALa1pQAAAAACWYWlAAAAAgKi6aEAAAACgb15pQAAAAIBVcWlAAAAAoEscaUAAAABgU7BpQAAAAIB5s2lAAAAAgHmzaUAAAAAgO4RpQP7\\u002f\\u002fz+8ZGlAAAAAYKb5aEAAAAAA9cBoQAAAAODa02hAAAAAgCmbaEAAAACgQcdoQAEAAMDYEmlAAAAAQJrjaEAAAACgwqdoQAAAAGD5QmhA\\u002f\\u002f\\u002f\\u002fv6YxaEAAAACAKZtoQP\\u002f\\u002f\\u002f38\\u002fBmlAAAAAYJCOaEAAAADAN3JoQAAAAOB6W2dAAQAAID61Z0AAAACg97lnQP7\\u002f\\u002fz9gNmhA\\u002f\\u002f\\u002f\\u002f3z8+aEABAADAlBBoQAAAAKD3uWdAAAAAYMh6aUD\\u002f\\u002f\\u002f\\u002ffh4ppQAEAAEBpG2pAAAAAwKkLakAAAADAnfVpQAEAACC6o2lAAAAAgGGHaUAAAAAAondpQAAAAMCFyWlAAQAAILqjaUAAAABg4KZpQAAAAAAVgWlA\\u002f\\u002f\\u002f\\u002fvwaqaUABAAAgRdlpQAAAAMC1IWpAAQAAQGkbakD\\u002f\\u002f\\u002f9\\u002fgwhqQAEAAEBR72lAAAAAAE8uakAAAACAGlRqQAAAACBzcGpAAAAAoLNgakABAADANEFqQAAAAOBMbWpAAAAAoDKAakAAAAAgZ1pqQAAAAADmeWpAAAAA4FiDakAAAACgp0pqQAAAAIBtnWlAAAAAYFOwaUABAABAXQVqQAAAAMCR32lA\\u002f\\u002f\\u002f\\u002fvxLAaUAAAABgU7BpQAAAAGBTsGlA\\u002f\\u002f\\u002f\\u002fP0eaaUAAAACgY0hpQAAAAKBXMmlA\\u002f\\u002f\\u002f\\u002f35OgaUD\\u002f\\u002f\\u002f9\\u002fPwZpQP\\u002f\\u002f\\u002f38\\u002fBmlAAQAAwPxUaUAAAAAgI1hpQP\\u002f\\u002f\\u002f78GqmlAAQAAwDRBakAAAACAAihqQAAAAOA2AmpAAAAAAEMYakAAAACg+pNpQAAAAOAe1mlAAAAAwLUhakAAAAAAwjdqQAAAAGCBR2pAAAAAYHfyaUD+\\u002f\\u002f8\\u002f9FBqQP\\u002f\\u002f\\u002fz9\\u002fhmpAAAAAAGWZakAAAADgWINqQAAAAADyj2pAAAAAAHGvakABAAAgfcVqQAAAAKDrTGtAAQAAQK0da0AAAAAAewRrQAAAAKBUAWtAAAAAoDzVakD\\u002f\\u002f\\u002f\\u002ffy4xqQP7\\u002f\\u002fz\\u002f0UGpAAAAAoDKAakAAAABgl7JqQP\\u002f\\u002f\\u002f792gmtA\\u002f\\u002f\\u002f\\u002fv3aCa0AAAACgDc5rQP\\u002f\\u002f\\u002f38LDWxAAAAAoJgDbED+\\u002f\\u002f8\\u002fiGtsQAAAAKCA12tAAQAAIMHHa0AAAAAA1zJsQAAAAICKLGxA\\u002fv\\u002f\\u002fP3A\\u002fbEAAAAAAeNNsQAAAAIC4w2xAAAAAYKCXbEAAAADg9vJsQAAAAECe1mxAAAAAYCF4bED+\\u002f\\u002f8\\u002ffFVsQAAAAADLHGxAAAAA4LxFbEAAAADAO2VsQAAAAADLHGxAAQAA4Ek8bEAAAADgvEVsQAAAACDvXmxAAAAAAONIbED\\u002f\\u002f\\u002f9\\u002f8+BrQP\\u002f\\u002f\\u002fz\\u002f7dGxAAAAA4NRxbEAAAADg1HFsQAAAAGArzWxAAQAAIPmzbEAAAACAxNlsQAAAAODgh2xAAAAA4NRxbEAAAACgLY5sQAAAAODgh2xAAAAAgMTZbEABAAAgepRsQAEAAOBp\\u002fGxAAAAAoFHQbEAAAAAAVlJsQAEAACCGqmxA\\u002f\\u002f\\u002f\\u002ffzfjbEAAAACAuMNsQAEAAOBp\\u002fGxAAAAAYKrsbED\\u002f\\u002f\\u002f8\\u002fH7dsQAAAAKBFumxAAAAAAA8fbUD\\u002f\\u002f\\u002f8\\u002fS41tQAEAAMAgCG5AAAAAoJ8nbkD\\u002f\\u002f\\u002f\\u002ff88FuQP\\u002f\\u002f\\u002fx8wMG9AAAAAIK9Pb0D\\u002f\\u002f\\u002f\\u002ffE4JvQAAAAEBSsW9AAAAAwCntb0AAAABgbDJwQAAAACDFTnBAAAAAADhYcEAAAACAcj1wQAAAAGB2h3BAAAAA4EGtcEAAAABg9aZwQAAAACBcmnBAAAAAgCfAcEAAAACAKwpxQAAAAABs+nBAAAAAADsyckAAAAAgwh1yQAAAAIB1F3JAAAAAQFUfckAAAABATxRyQAAAACBD\\u002fnFAAAAA4BDlcUAAAADA8q1xQAAAAAD3L3FAAAAAYDVfcUAAAAAgsr1xQAAAAAATpnFAAAAAgMyqcUD\\u002f\\u002f\\u002f+\\u002fc45xQAAAAECQPHFAAAAAgI6zcEAAAAAgbrtwQAAAAADnz3BAAAAAoBFVcEAAAABA75twQAAAAGBmJ3BAAAAAoIAUcEAAAADgJTdwQAAAAMCSNXBAAAAAQFhQcEAAAACAhF5wQAAAAGD9cnBAAAAAAM+jcEAAAADgUQ1xQAAAAABUznBAAAAAIOmQcEAAAABAZGZwQAAAAIB+U3BAAAAAYP1ycED\\u002f\\u002f\\u002f+\\u002fI3ZwQAAAAABpjG5AAAAAgBTybUD\\u002f\\u002f\\u002f\\u002ffX6dsQAAAAACwv21A\\u002f\\u002f\\u002f\\u002fv97GbEAAAACA\\u002fMVtQAEAACDKrG1AAAAAgJ1mbkAAAABgv+duQAAAAGCnu25AAAAAAOpsbkABAABAvSZvQP\\u002f\\u002f\\u002fz\\u002ffp29AAAAAwPEAb0AAAACg4ylvQAAAAEAaxW5AAAAAAI3ObkABAADg\\u002fRZvQP\\u002f\\u002f\\u002f98rrm9AAQAAIEabb0AAAAAAANhuQAAAAGBmdm5A\\u002f\\u002f\\u002f\\u002fPzODbkAAAACgmUluQP\\u002f\\u002f\\u002fz8zI29AAAAAYGbWb0ABAADAzDxvQAAAAGBmpm9AAAAAQDNLcEAAAAAAAEhwQAAAAGBmVnBAAAAAYGZGcEAAAACgmWlwQAAAAAAAQG9AAAAAYGbmb0AAAABgZqZvQP\\u002f\\u002f\\u002fz8z825AAAAAYGb2bkAAAABgZpZuQP\\u002f\\u002f\\u002fz8zo25AAAAAYGaWbkABAADAzHxuQAAAAAAAsG5AAAAAoJkJb0AAAACgmSlvQAEAAMDMbG9AAAAAAABAb0AAAABgZtZuQAAAAAAAQG5AAAAAoJlZbkAAAAAAABBuQAEAAMDMLG5AAAAAoJkJbkAAAACgmRluQAAAAGBmFm5AAQAAwMxMbkD\\u002f\\u002f\\u002f8\\u002fM8NtQP\\u002f\\u002f\\u002fz8z42xAAAAAoJlJbUABAADAzBxtQAEAAMDMXG1AAAAAYGaWbUD\\u002f\\u002f\\u002f8\\u002fM3NtQAEAAMDMLG1AAQAAwMycbUABAADAzOxtQAEAAMDMnG9AAAAAAABAb0ABAADAzExuQAAAAKCZeW5AAAAAYGZGbkABAADAzFxuQAAAAGBmhm5AAAAAoJl5bkAAAAAAAHBuQAAAAKCZSW5AAAAAYGbGbkAAAABgZuZuQAAAAGBmNm9A\"},\"type\":\"scatter\"},{\"customdata\":[[\"Acquisition\",1,222.02,\"Auteur:S\\u00e9bastien BROWN, ADMINISTRATEUR REPR\\u00c9SENTANT LES SALARI\\u00c9S\"],[\"Acquisition\",17,3774.34,\"Auteur:Francesco MILLERI, CHAIRMAN AND CEO\"],[\"Acquisition\",69,15319.38,\"Auteur:Jean-Luc BIAMONTI, Administrateur r\\u00e9f\\u00e9rent (ind\\u00e9pendant)\"],[\"Acquisition\",227,50398.54,\"Auteur:Virginie PITRE MERCIER, ADMINISTRATRICE REPR\\u00c9SENTANT L\\u2019ASSOCIATION VALOPTEC\"],[\"Acquisition\",6687,1484647.74,\"Auteur:Paul DU SAILLANT, DIRECTEUR G\\u00c9N\\u00c9RAL D\\u00c9L\\u00c9GU\\u00c9\"],[\"Acquisition\",9772,2169579.44,\"Auteur:MILLERI SRL SRL personne morale li\\u00e9e \\u00e0 Milleri Srl, Personne morale li\\u00e9e \\u00e0 Francesco Milleri Pr\\u00e9sident Directeur G\\u00e9n\\u00e9ral\"],[\"Acquisition\",1959141,499992374.61,\"Auteur:Bpifrance Participations SA personne morale li\\u00e9e \\u00e0 JOSE GONZALO, ADMINISTRATEUR\"],[\"Acquisition\",78,13959.66,\"Auteur:Virginie PITRE MERCIER, ADMINISTRATRICE REPR\\u00c9SENTANT L\\u2019ASSOCIATION VALOPTEC\"],[\"Acquisition\",109,19507.73,\"Auteur:S\\u00e9bastien BROWN, ADMINISTRATEUR REPR\\u00c9SENTANT LES SALARI\\u00c9S\"],[\"Acquisition\",285,51006.45,\"Auteur:Margot BARD, ADMINISTRATEUR REPR\\u00c9SENTANT LES SALARI\\u00c9S\"],[\"Acquisition\",698,124921.06,\"Auteur:Paul DU SAILLANT, DIRECTEUR G\\u00c9N\\u00c9RAL D\\u00c9L\\u00c9GU\\u00c9\"],[\"Acquisition\",450522,103138001.46,\"Auteur:MILLERI SRL SRL personne morale li\\u00e9e \\u00e0 Milleri Srl, Personne morale li\\u00e9e \\u00e0 Francesco Milleri Pr\\u00e9sident Directeur G\\u00e9n\\u00e9ral\"],[\"Acquisition\",3250,693875.0,\"Auteur:ROMOLO BARDIN, membre du Conseil d\\u2019Administration de EssilorLuxottica\"],[\"Acquisition\",41400,8901000.0,\"Auteur:MILLERI SRL Srl personne morale li\\u00e9e \\u00e0 Milleri Srl, Personne morale li\\u00e9e \\u00e0 Francesco Milleri Pr\\u00e9sident Directeur G\\u00e9n\\u00e9ral\"]],\"hovertemplate\":\"\\u003cb\\u003eDate:\\u003c\\u002fb\\u003e %{x}\\u003cbr\\u003e\\u003cb\\u003eOperation:\\u003c\\u002fb\\u003e %{customdata[0]}\\u003cbr\\u003e\\u003cb\\u003ePrice:\\u003c\\u002fb\\u003e %{y:.2f}\\u20ac\\u003cbr\\u003e\\u003cb\\u003eQuantity:\\u003c\\u002fb\\u003e %{customdata[1]:,.0f}\\u003cbr\\u003e\\u003cb\\u003eTotal Value:\\u003c\\u002fb\\u003e %{customdata[2]:,.0f}\\u20ac\\u003cbr\\u003e\\u003cb\\u003eAuthor:\\u003c\\u002fb\\u003e %{customdata[3]}\\u003cextra\\u003e\\u003c\\u002fextra\\u003e\",\"marker\":{\"color\":\"#2ca02c\",\"line\":{\"color\":\"white\",\"width\":1},\"opacity\":0.8,\"size\":{\"dtype\":\"f8\",\"bdata\":\"u6YVrQIAFEBkEnB+LQAUQEzw1aa4ABRAeNcyel8CFEBuJI4o50UUQDZbePYmZhRAAAAAAAAAOUDbzJi80AAUQHT9N7IjARRAwJ0asfoCFEDNmAjtSwcUQPQXhpTHMiNAD63eXPkhFEAnMmsFx7AVQA==\"}},\"mode\":\"markers\",\"name\":\"Buy Operations\",\"x\":[\"2025-06-05T00:00:00.000000000\",\"2025-06-05T00:00:00.000000000\",\"2025-06-05T00:00:00.000000000\",\"2025-06-05T00:00:00.000000000\",\"2025-06-05T00:00:00.000000000\",\"2025-06-05T00:00:00.000000000\",\"2025-05-27T00:00:00.000000000\",\"2024-12-18T00:00:00.000000000\",\"2024-12-18T00:00:00.000000000\",\"2024-12-18T00:00:00.000000000\",\"2024-12-18T00:00:00.000000000\",\"2024-12-02T00:00:00.000000000\",\"2024-10-30T00:00:00.000000000\",\"2024-10-29T00:00:00.000000000\"],\"y\":{\"dtype\":\"f8\",\"bdata\":\"cT0K16PAa0BxPQrXo8BrQHE9CtejwGtAcT0K16PAa0BxPQrXo8BrQHE9CtejwGtAH4XrUbjmb0DXo3A9Cl9mQNejcD0KX2ZA16NwPQpfZkDXo3A9Cl9mQPYoXI\\u002fCnWxAAAAAAACwakAAAAAAAOBqQA==\"},\"type\":\"scatter\"},{\"customdata\":[[\"Cession\",1959141,499992374.61,\"Auteur:BPIFRANCE INVESTISSEMENT SAS personne morale li\\u00e9e \\u00e0 JOSE GONZALO, ADMINISTRATEUR\"],[\"Cession\",19975,4613226.25,\"Auteur:Paul  du Saillant, Directeur G\\u00e9n\\u00e9ral D\\u00e9l\\u00e9gu\\u00e9\"],[\"Cession\",450522,103138001.46,\"Auteur:Francesco MILLERI, CHAIRMAN AND CEO\"],[\"Cession\",41400,8901000.0,\"Auteur:Francesco MILLERI, CHAIRMAN AND CEO\"],[\"Cession\",8600,1878842.0,\"Auteur:Francesco MILLERI, CHAIRMAN AND CEO\"]],\"hovertemplate\":\"\\u003cb\\u003eDate:\\u003c\\u002fb\\u003e %{x}\\u003cbr\\u003e\\u003cb\\u003eOperation:\\u003c\\u002fb\\u003e %{customdata[0]}\\u003cbr\\u003e\\u003cb\\u003ePrice:\\u003c\\u002fb\\u003e %{y:.2f}\\u20ac\\u003cbr\\u003e\\u003cb\\u003eQuantity:\\u003c\\u002fb\\u003e %{customdata[1]:,.0f}\\u003cbr\\u003e\\u003cb\\u003eTotal Value:\\u003c\\u002fb\\u003e %{customdata[2]:,.0f}\\u20ac\\u003cbr\\u003e\\u003cb\\u003eAuthor:\\u003c\\u002fb\\u003e %{customdata[3]}\\u003cextra\\u003e\\u003c\\u002fextra\\u003e\",\"marker\":{\"color\":\"#d62728\",\"line\":{\"color\":\"white\",\"width\":1},\"opacity\":0.8,\"size\":{\"dtype\":\"f8\",\"bdata\":\"AAAAAAAAOUCYamRUz9AUQPQXhpTHMiNAJzJrBcewFUDkDFmP5lkUQA==\"}},\"mode\":\"markers\",\"name\":\"Sell Operations\",\"x\":[\"2025-05-27T00:00:00.000000000\",\"2024-12-27T00:00:00.000000000\",\"2024-12-02T00:00:00.000000000\",\"2024-10-29T00:00:00.000000000\",\"2024-10-29T00:00:00.000000000\"],\"y\":{\"dtype\":\"f8\",\"bdata\":\"H4XrUbjmb0BmZmZmZt5sQPYoXI\\u002fCnWxAAAAAAADgakDXo3A9Ck9rQA==\"},\"type\":\"scatter\"}],                        {\"template\":{\"data\":{\"barpolar\":[{\"marker\":{\"line\":{\"color\":\"white\",\"width\":0.5},\"pattern\":{\"fillmode\":\"overlay\",\"size\":10,\"solidity\":0.2}},\"type\":\"barpolar\"}],\"bar\":[{\"error_x\":{\"color\":\"#2a3f5f\"},\"error_y\":{\"color\":\"#2a3f5f\"},\"marker\":{\"line\":{\"color\":\"white\",\"width\":0.5},\"pattern\":{\"fillmode\":\"overlay\",\"size\":10,\"solidity\":0.2}},\"type\":\"bar\"}],\"carpet\":[{\"aaxis\":{\"endlinecolor\":\"#2a3f5f\",\"gridcolor\":\"#C8D4E3\",\"linecolor\":\"#C8D4E3\",\"minorgridcolor\":\"#C8D4E3\",\"startlinecolor\":\"#2a3f5f\"},\"baxis\":{\"endlinecolor\":\"#2a3f5f\",\"gridcolor\":\"#C8D4E3\",\"linecolor\":\"#C8D4E3\",\"minorgridcolor\":\"#C8D4E3\",\"startlinecolor\":\"#2a3f5f\"},\"type\":\"carpet\"}],\"choropleth\":[{\"colorbar\":{\"outlinewidth\":0,\"ticks\":\"\"},\"type\":\"choropleth\"}],\"contourcarpet\":[{\"colorbar\":{\"outlinewidth\":0,\"ticks\":\"\"},\"type\":\"contourcarpet\"}],\"contour\":[{\"colorbar\":{\"outlinewidth\":0,\"ticks\":\"\"},\"colorscale\":[[0.0,\"#0d0887\"],[0.1111111111111111,\"#46039f\"],[0.2222222222222222,\"#7201a8\"],[0.3333333333333333,\"#9c179e\"],[0.4444444444444444,\"#bd3786\"],[0.5555555555555556,\"#d8576b\"],[0.6666666666666666,\"#ed7953\"],[0.7777777777777778,\"#fb9f3a\"],[0.8888888888888888,\"#fdca26\"],[1.0,\"#f0f921\"]],\"type\":\"contour\"}],\"heatmap\":[{\"colorbar\":{\"outlinewidth\":0,\"ticks\":\"\"},\"colorscale\":[[0.0,\"#0d0887\"],[0.1111111111111111,\"#46039f\"],[0.2222222222222222,\"#7201a8\"],[0.3333333333333333,\"#9c179e\"],[0.4444444444444444,\"#bd3786\"],[0.5555555555555556,\"#d8576b\"],[0.6666666666666666,\"#ed7953\"],[0.7777777777777778,\"#fb9f3a\"],[0.8888888888888888,\"#fdca26\"],[1.0,\"#f0f921\"]],\"type\":\"heatmap\"}],\"histogram2dcontour\":[{\"colorbar\":{\"outlinewidth\":0,\"ticks\":\"\"},\"colorscale\":[[0.0,\"#0d0887\"],[0.1111111111111111,\"#46039f\"],[0.2222222222222222,\"#7201a8\"],[0.3333333333333333,\"#9c179e\"],[0.4444444444444444,\"#bd3786\"],[0.5555555555555556,\"#d8576b\"],[0.6666666666666666,\"#ed7953\"],[0.7777777777777778,\"#fb9f3a\"],[0.8888888888888888,\"#fdca26\"],[1.0,\"#f0f921\"]],\"type\":\"histogram2dcontour\"}],\"histogram2d\":[{\"colorbar\":{\"outlinewidth\":0,\"ticks\":\"\"},\"colorscale\":[[0.0,\"#0d0887\"],[0.1111111111111111,\"#46039f\"],[0.2222222222222222,\"#7201a8\"],[0.3333333333333333,\"#9c179e\"],[0.4444444444444444,\"#bd3786\"],[0.5555555555555556,\"#d8576b\"],[0.6666666666666666,\"#ed7953\"],[0.7777777777777778,\"#fb9f3a\"],[0.8888888888888888,\"#fdca26\"],[1.0,\"#f0f921\"]],\"type\":\"histogram2d\"}],\"histogram\":[{\"marker\":{\"pattern\":{\"fillmode\":\"overlay\",\"size\":10,\"solidity\":0.2}},\"type\":\"histogram\"}],\"mesh3d\":[{\"colorbar\":{\"outlinewidth\":0,\"ticks\":\"\"},\"type\":\"mesh3d\"}],\"parcoords\":[{\"line\":{\"colorbar\":{\"outlinewidth\":0,\"ticks\":\"\"}},\"type\":\"parcoords\"}],\"pie\":[{\"automargin\":true,\"type\":\"pie\"}],\"scatter3d\":[{\"line\":{\"colorbar\":{\"outlinewidth\":0,\"ticks\":\"\"}},\"marker\":{\"colorbar\":{\"outlinewidth\":0,\"ticks\":\"\"}},\"type\":\"scatter3d\"}],\"scattercarpet\":[{\"marker\":{\"colorbar\":{\"outlinewidth\":0,\"ticks\":\"\"}},\"type\":\"scattercarpet\"}],\"scattergeo\":[{\"marker\":{\"colorbar\":{\"outlinewidth\":0,\"ticks\":\"\"}},\"type\":\"scattergeo\"}],\"scattergl\":[{\"marker\":{\"colorbar\":{\"outlinewidth\":0,\"ticks\":\"\"}},\"type\":\"scattergl\"}],\"scattermapbox\":[{\"marker\":{\"colorbar\":{\"outlinewidth\":0,\"ticks\":\"\"}},\"type\":\"scattermapbox\"}],\"scattermap\":[{\"marker\":{\"colorbar\":{\"outlinewidth\":0,\"ticks\":\"\"}},\"type\":\"scattermap\"}],\"scatterpolargl\":[{\"marker\":{\"colorbar\":{\"outlinewidth\":0,\"ticks\":\"\"}},\"type\":\"scatterpolargl\"}],\"scatterpolar\":[{\"marker\":{\"colorbar\":{\"outlinewidth\":0,\"ticks\":\"\"}},\"type\":\"scatterpolar\"}],\"scatter\":[{\"fillpattern\":{\"fillmode\":\"overlay\",\"size\":10,\"solidity\":0.2},\"type\":\"scatter\"}],\"scatterternary\":[{\"marker\":{\"colorbar\":{\"outlinewidth\":0,\"ticks\":\"\"}},\"type\":\"scatterternary\"}],\"surface\":[{\"colorbar\":{\"outlinewidth\":0,\"ticks\":\"\"},\"colorscale\":[[0.0,\"#0d0887\"],[0.1111111111111111,\"#46039f\"],[0.2222222222222222,\"#7201a8\"],[0.3333333333333333,\"#9c179e\"],[0.4444444444444444,\"#bd3786\"],[0.5555555555555556,\"#d8576b\"],[0.6666666666666666,\"#ed7953\"],[0.7777777777777778,\"#fb9f3a\"],[0.8888888888888888,\"#fdca26\"],[1.0,\"#f0f921\"]],\"type\":\"surface\"}],\"table\":[{\"cells\":{\"fill\":{\"color\":\"#EBF0F8\"},\"line\":{\"color\":\"white\"}},\"header\":{\"fill\":{\"color\":\"#C8D4E3\"},\"line\":{\"color\":\"white\"}},\"type\":\"table\"}]},\"layout\":{\"annotationdefaults\":{\"arrowcolor\":\"#2a3f5f\",\"arrowhead\":0,\"arrowwidth\":1},\"autotypenumbers\":\"strict\",\"coloraxis\":{\"colorbar\":{\"outlinewidth\":0,\"ticks\":\"\"}},\"colorscale\":{\"diverging\":[[0,\"#8e0152\"],[0.1,\"#c51b7d\"],[0.2,\"#de77ae\"],[0.3,\"#f1b6da\"],[0.4,\"#fde0ef\"],[0.5,\"#f7f7f7\"],[0.6,\"#e6f5d0\"],[0.7,\"#b8e186\"],[0.8,\"#7fbc41\"],[0.9,\"#4d9221\"],[1,\"#276419\"]],\"sequential\":[[0.0,\"#0d0887\"],[0.1111111111111111,\"#46039f\"],[0.2222222222222222,\"#7201a8\"],[0.3333333333333333,\"#9c179e\"],[0.4444444444444444,\"#bd3786\"],[0.5555555555555556,\"#d8576b\"],[0.6666666666666666,\"#ed7953\"],[0.7777777777777778,\"#fb9f3a\"],[0.8888888888888888,\"#fdca26\"],[1.0,\"#f0f921\"]],\"sequentialminus\":[[0.0,\"#0d0887\"],[0.1111111111111111,\"#46039f\"],[0.2222222222222222,\"#7201a8\"],[0.3333333333333333,\"#9c179e\"],[0.4444444444444444,\"#bd3786\"],[0.5555555555555556,\"#d8576b\"],[0.6666666666666666,\"#ed7953\"],[0.7777777777777778,\"#fb9f3a\"],[0.8888888888888888,\"#fdca26\"],[1.0,\"#f0f921\"]]},\"colorway\":[\"#636efa\",\"#EF553B\",\"#00cc96\",\"#ab63fa\",\"#FFA15A\",\"#19d3f3\",\"#FF6692\",\"#B6E880\",\"#FF97FF\",\"#FECB52\"],\"font\":{\"color\":\"#2a3f5f\"},\"geo\":{\"bgcolor\":\"white\",\"lakecolor\":\"white\",\"landcolor\":\"white\",\"showlakes\":true,\"showland\":true,\"subunitcolor\":\"#C8D4E3\"},\"hoverlabel\":{\"align\":\"left\"},\"hovermode\":\"closest\",\"mapbox\":{\"style\":\"light\"},\"paper_bgcolor\":\"white\",\"plot_bgcolor\":\"white\",\"polar\":{\"angularaxis\":{\"gridcolor\":\"#EBF0F8\",\"linecolor\":\"#EBF0F8\",\"ticks\":\"\"},\"bgcolor\":\"white\",\"radialaxis\":{\"gridcolor\":\"#EBF0F8\",\"linecolor\":\"#EBF0F8\",\"ticks\":\"\"}},\"scene\":{\"xaxis\":{\"backgroundcolor\":\"white\",\"gridcolor\":\"#DFE8F3\",\"gridwidth\":2,\"linecolor\":\"#EBF0F8\",\"showbackground\":true,\"ticks\":\"\",\"zerolinecolor\":\"#EBF0F8\"},\"yaxis\":{\"backgroundcolor\":\"white\",\"gridcolor\":\"#DFE8F3\",\"gridwidth\":2,\"linecolor\":\"#EBF0F8\",\"showbackground\":true,\"ticks\":\"\",\"zerolinecolor\":\"#EBF0F8\"},\"zaxis\":{\"backgroundcolor\":\"white\",\"gridcolor\":\"#DFE8F3\",\"gridwidth\":2,\"linecolor\":\"#EBF0F8\",\"showbackground\":true,\"ticks\":\"\",\"zerolinecolor\":\"#EBF0F8\"}},\"shapedefaults\":{\"line\":{\"color\":\"#2a3f5f\"}},\"ternary\":{\"aaxis\":{\"gridcolor\":\"#DFE8F3\",\"linecolor\":\"#A2B1C6\",\"ticks\":\"\"},\"baxis\":{\"gridcolor\":\"#DFE8F3\",\"linecolor\":\"#A2B1C6\",\"ticks\":\"\"},\"bgcolor\":\"white\",\"caxis\":{\"gridcolor\":\"#DFE8F3\",\"linecolor\":\"#A2B1C6\",\"ticks\":\"\"}},\"title\":{\"x\":0.05},\"xaxis\":{\"automargin\":true,\"gridcolor\":\"#EBF0F8\",\"linecolor\":\"#EBF0F8\",\"ticks\":\"\",\"title\":{\"standoff\":15},\"zerolinecolor\":\"#EBF0F8\",\"zerolinewidth\":2},\"yaxis\":{\"automargin\":true,\"gridcolor\":\"#EBF0F8\",\"linecolor\":\"#EBF0F8\",\"ticks\":\"\",\"title\":{\"standoff\":15},\"zerolinecolor\":\"#EBF0F8\",\"zerolinewidth\":2}}},\"title\":{\"font\":{\"size\":20},\"text\":\"EssilorLuxottica Insider Trading Activity vs Price\",\"x\":0.5},\"xaxis\":{\"title\":{\"text\":\"Date\"},\"showgrid\":true,\"gridcolor\":\"rgba(128, 128, 128, 0.2)\"},\"yaxis\":{\"title\":{\"text\":\"Price (\\u20ac)\"},\"showgrid\":true,\"gridcolor\":\"rgba(128, 128, 128, 0.2)\"},\"height\":600,\"showlegend\":true,\"hovermode\":\"x unified\"},                        {\"responsive\": true}                    )                };            </script>        </div>"
      ],
      "text/plain": [
       "Figure({\n",
       "    'data': [{'hovertemplate': '<b>Date:</b> %{x}<br><b>Price:</b> %{y:.2f}<extra></extra>',\n",
       "              'line': {'color': '#1f77b4', 'width': 2},\n",
       "              'mode': 'lines',\n",
       "              'name': 'Price',\n",
       "              'type': 'scatter',\n",
       "              'x': {'bdata': ('AAABAAIAAwAEAAUABgAHAAgACQAKAA' ... 'FyAXMBdAF1AXYBdwF4AXkBegF7AXwB'),\n",
       "                    'dtype': 'i2'},\n",
       "              'y': {'bdata': ('AAAAwC1/ZUAAAACAV5dlQAAAAOAygm' ... 'AAYGbGbkAAAABgZuZuQAAAAGBmNm9A'),\n",
       "                    'dtype': 'f8'}},\n",
       "             {'customdata': array([['Acquisition', 1, 222.02,\n",
       "                                    'Auteur:Sébastien BROWN, ADMINISTRATEUR REPRÉSENTANT LES SALARIÉS'],\n",
       "                                   ['Acquisition', 17, 3774.34,\n",
       "                                    'Auteur:Francesco MILLERI, CHAIRMAN AND CEO'],\n",
       "                                   ['Acquisition', 69, 15319.38,\n",
       "                                    'Auteur:Jean-Luc BIAMONTI, Administrateur référent (indépendant)'],\n",
       "                                   ['Acquisition', 227, 50398.54,\n",
       "                                    'Auteur:Virginie PITRE MERCIER, ADMINISTRATRICE REPRÉSENTANT L’ASSOCIATION VALOPTEC'],\n",
       "                                   ['Acquisition', 6687, 1484647.74,\n",
       "                                    'Auteur:Paul DU SAILLANT, DIRECTEUR GÉNÉRAL DÉLÉGUÉ'],\n",
       "                                   ['Acquisition', 9772, 2169579.44,\n",
       "                                    'Auteur:MILLERI SRL SRL personne morale liée à Milleri Srl, Personne morale liée à Francesco Milleri Président Directeur Général'],\n",
       "                                   ['Acquisition', 1959141, 499992374.61,\n",
       "                                    'Auteur:Bpifrance Participations SA personne morale liée à JOSE GONZALO, ADMINISTRATEUR'],\n",
       "                                   ['Acquisition', 78, 13959.66,\n",
       "                                    'Auteur:Virginie PITRE MERCIER, ADMINISTRATRICE REPRÉSENTANT L’ASSOCIATION VALOPTEC'],\n",
       "                                   ['Acquisition', 109, 19507.73,\n",
       "                                    'Auteur:Sébastien BROWN, ADMINISTRATEUR REPRÉSENTANT LES SALARIÉS'],\n",
       "                                   ['Acquisition', 285, 51006.45,\n",
       "                                    'Auteur:Margot BARD, ADMINISTRATEUR REPRÉSENTANT LES SALARIÉS'],\n",
       "                                   ['Acquisition', 698, 124921.06,\n",
       "                                    'Auteur:Paul DU SAILLANT, DIRECTEUR GÉNÉRAL DÉLÉGUÉ'],\n",
       "                                   ['Acquisition', 450522, 103138001.46,\n",
       "                                    'Auteur:MILLERI SRL SRL personne morale liée à Milleri Srl, Personne morale liée à Francesco Milleri Président Directeur Général'],\n",
       "                                   ['Acquisition', 3250, 693875.0,\n",
       "                                    'Auteur:ROMOLO BARDIN, membre du Conseil d’Administration de EssilorLuxottica'],\n",
       "                                   ['Acquisition', 41400, 8901000.0,\n",
       "                                    'Auteur:MILLERI SRL Srl personne morale liée à Milleri Srl, Personne morale liée à Francesco Milleri Président Directeur Général']],\n",
       "                                  dtype=object),\n",
       "              'hovertemplate': ('<b>Date:</b> %{x}<br><b>Operat' ... '{customdata[3]}<extra></extra>'),\n",
       "              'marker': {'color': '#2ca02c',\n",
       "                         'line': {'color': 'white', 'width': 1},\n",
       "                         'opacity': 0.8,\n",
       "                         'size': {'bdata': ('u6YVrQIAFEBkEnB+LQAUQEzw1aa4AB' ... 'THMiNAD63eXPkhFEAnMmsFx7AVQA=='),\n",
       "                                  'dtype': 'f8'}},\n",
       "              'mode': 'markers',\n",
       "              'name': 'Buy Operations',\n",
       "              'type': 'scatter',\n",
       "              'x': array(['2025-06-05T00:00:00.000000000', '2025-06-05T00:00:00.000000000',\n",
       "                          '2025-06-05T00:00:00.000000000', '2025-06-05T00:00:00.000000000',\n",
       "                          '2025-06-05T00:00:00.000000000', '2025-06-05T00:00:00.000000000',\n",
       "                          '2025-05-27T00:00:00.000000000', '2024-12-18T00:00:00.000000000',\n",
       "                          '2024-12-18T00:00:00.000000000', '2024-12-18T00:00:00.000000000',\n",
       "                          '2024-12-18T00:00:00.000000000', '2024-12-02T00:00:00.000000000',\n",
       "                          '2024-10-30T00:00:00.000000000', '2024-10-29T00:00:00.000000000'],\n",
       "                         dtype='datetime64[ns]'),\n",
       "              'y': {'bdata': ('cT0K16PAa0BxPQrXo8BrQHE9CtejwG' ... '/CnWxAAAAAAACwakAAAAAAAOBqQA=='),\n",
       "                    'dtype': 'f8'}},\n",
       "             {'customdata': array([['Cession', 1959141, 499992374.61,\n",
       "                                    'Auteur:BPIFRANCE INVESTISSEMENT SAS personne morale liée à JOSE GONZALO, ADMINISTRATEUR'],\n",
       "                                   ['Cession', 19975, 4613226.25,\n",
       "                                    'Auteur:Paul  du Saillant, Directeur Général Délégué'],\n",
       "                                   ['Cession', 450522, 103138001.46,\n",
       "                                    'Auteur:Francesco MILLERI, CHAIRMAN AND CEO'],\n",
       "                                   ['Cession', 41400, 8901000.0,\n",
       "                                    'Auteur:Francesco MILLERI, CHAIRMAN AND CEO'],\n",
       "                                   ['Cession', 8600, 1878842.0,\n",
       "                                    'Auteur:Francesco MILLERI, CHAIRMAN AND CEO']], dtype=object),\n",
       "              'hovertemplate': ('<b>Date:</b> %{x}<br><b>Operat' ... '{customdata[3]}<extra></extra>'),\n",
       "              'marker': {'color': '#d62728',\n",
       "                         'line': {'color': 'white', 'width': 1},\n",
       "                         'opacity': 0.8,\n",
       "                         'size': {'bdata': 'AAAAAAAAOUCYamRUz9AUQPQXhpTHMiNAJzJrBcewFUDkDFmP5lkUQA==', 'dtype': 'f8'}},\n",
       "              'mode': 'markers',\n",
       "              'name': 'Sell Operations',\n",
       "              'type': 'scatter',\n",
       "              'x': array(['2025-05-27T00:00:00.000000000', '2024-12-27T00:00:00.000000000',\n",
       "                          '2024-12-02T00:00:00.000000000', '2024-10-29T00:00:00.000000000',\n",
       "                          '2024-10-29T00:00:00.000000000'], dtype='datetime64[ns]'),\n",
       "              'y': {'bdata': 'H4XrUbjmb0BmZmZmZt5sQPYoXI/CnWxAAAAAAADgakDXo3A9Ck9rQA==', 'dtype': 'f8'}}],\n",
       "    'layout': {'height': 600,\n",
       "               'hovermode': 'x unified',\n",
       "               'showlegend': True,\n",
       "               'template': '...',\n",
       "               'title': {'font': {'size': 20}, 'text': 'EssilorLuxottica Insider Trading Activity vs Price', 'x': 0.5},\n",
       "               'xaxis': {'gridcolor': 'rgba(128, 128, 128, 0.2)', 'showgrid': True, 'title': {'text': 'Date'}},\n",
       "               'yaxis': {'gridcolor': 'rgba(128, 128, 128, 0.2)', 'showgrid': True, 'title': {'text': 'Price (€)'}}}\n",
       "})"
      ]
     },
     "execution_count": 11,
     "metadata": {},
     "output_type": "execute_result"
    }
   ],
   "source": [
    "\n",
    "viz_company = \"EssilorLuxottica\"\n",
    "\n",
    "insiders_company = df[df['company'] == viz_company]\n",
    "company_ticker = company_to_ticker[viz_company]\n",
    "prices = tickers_df[company_ticker]\n",
    "\n",
    "create_insider_trading_chart(\n",
    "    prices, insiders_company,\n",
    "    price_dates=prices.index,\n",
    "    title=f\"{viz_company} Insider Trading Activity vs Price\",\n",
    ")"
   ]
  },
  {
   "cell_type": "code",
   "execution_count": null,
   "id": "0b84c878",
   "metadata": {},
   "outputs": [
    {
     "ename": "KeyError",
     "evalue": "'AIR.PA'",
     "output_type": "error",
     "traceback": [
      "\u001b[0;31m---------------------------------------------------------------------------\u001b[0m\n",
      "\u001b[0;31mKeyError\u001b[0m                                  Traceback (most recent call last)\n",
      "Cell \u001b[0;32mIn[26], line 1\u001b[0m\n",
      "\u001b[0;32m----> 1\u001b[0m \u001b[43mtickers_data\u001b[49m\u001b[43m[\u001b[49m\u001b[38;5;124;43m'\u001b[39;49m\u001b[38;5;124;43mAIR.PA\u001b[39;49m\u001b[38;5;124;43m'\u001b[39;49m\u001b[43m]\u001b[49m\n",
      "\n",
      "\u001b[0;31mKeyError\u001b[0m: 'AIR.PA'"
     ]
    }
   ],
   "source": [
    "tickers_data['AIR.PA']"
   ]
  },
  {
   "cell_type": "code",
   "execution_count": null,
   "id": "b87effaf",
   "metadata": {},
   "outputs": [
    {
     "ename": "KeyError",
     "evalue": "'AIR.PA'",
     "output_type": "error",
     "traceback": [
      "\u001b[0;31m---------------------------------------------------------------------------\u001b[0m\n",
      "\u001b[0;31mKeyError\u001b[0m                                  Traceback (most recent call last)\n",
      "Cell \u001b[0;32mIn[26], line 1\u001b[0m\n",
      "\u001b[0;32m----> 1\u001b[0m \u001b[43mtickers_data\u001b[49m\u001b[43m[\u001b[49m\u001b[38;5;124;43m'\u001b[39;49m\u001b[38;5;124;43mAIR.PA\u001b[39;49m\u001b[38;5;124;43m'\u001b[39;49m\u001b[43m]\u001b[49m\n",
      "\n",
      "\u001b[0;31mKeyError\u001b[0m: 'AIR.PA'"
     ]
    }
   ],
   "source": [
    "tickers_data['AIR.PA']"
   ]
  },
  {
   "cell_type": "code",
   "execution_count": null,
   "id": "79d8d629",
   "metadata": {},
   "outputs": [
    {
     "ename": "KeyError",
     "evalue": "'AIR.PA'",
     "output_type": "error",
     "traceback": [
      "\u001b[0;31m---------------------------------------------------------------------------\u001b[0m\n",
      "\u001b[0;31mKeyError\u001b[0m                                  Traceback (most recent call last)\n",
      "Cell \u001b[0;32mIn[26], line 1\u001b[0m\n",
      "\u001b[0;32m----> 1\u001b[0m \u001b[43mtickers_data\u001b[49m\u001b[43m[\u001b[49m\u001b[38;5;124;43m'\u001b[39;49m\u001b[38;5;124;43mAIR.PA\u001b[39;49m\u001b[38;5;124;43m'\u001b[39;49m\u001b[43m]\u001b[49m\n",
      "\n",
      "\u001b[0;31mKeyError\u001b[0m: 'AIR.PA'"
     ]
    }
   ],
   "source": [
    "tickers_data['AIR.PA']"
   ]
  },
  {
   "cell_type": "code",
   "execution_count": null,
   "id": "178ca382",
   "metadata": {},
   "outputs": [
    {
     "ename": "KeyError",
     "evalue": "'AIR.PA'",
     "output_type": "error",
     "traceback": [
      "\u001b[0;31m---------------------------------------------------------------------------\u001b[0m\n",
      "\u001b[0;31mKeyError\u001b[0m                                  Traceback (most recent call last)\n",
      "Cell \u001b[0;32mIn[26], line 1\u001b[0m\n",
      "\u001b[0;32m----> 1\u001b[0m \u001b[43mtickers_data\u001b[49m\u001b[43m[\u001b[49m\u001b[38;5;124;43m'\u001b[39;49m\u001b[38;5;124;43mAIR.PA\u001b[39;49m\u001b[38;5;124;43m'\u001b[39;49m\u001b[43m]\u001b[49m\n",
      "\n",
      "\u001b[0;31mKeyError\u001b[0m: 'AIR.PA'"
     ]
    }
   ],
   "source": [
    "tickers_data['AIR.PA']"
   ]
  },
  {
   "cell_type": "code",
   "execution_count": null,
   "id": "cd618ebd",
   "metadata": {},
   "outputs": [
    {
     "ename": "KeyError",
     "evalue": "'AIR.PA'",
     "output_type": "error",
     "traceback": [
      "\u001b[0;31m---------------------------------------------------------------------------\u001b[0m\n",
      "\u001b[0;31mKeyError\u001b[0m                                  Traceback (most recent call last)\n",
      "Cell \u001b[0;32mIn[26], line 1\u001b[0m\n",
      "\u001b[0;32m----> 1\u001b[0m \u001b[43mtickers_data\u001b[49m\u001b[43m[\u001b[49m\u001b[38;5;124;43m'\u001b[39;49m\u001b[38;5;124;43mAIR.PA\u001b[39;49m\u001b[38;5;124;43m'\u001b[39;49m\u001b[43m]\u001b[49m\n",
      "\n",
      "\u001b[0;31mKeyError\u001b[0m: 'AIR.PA'"
     ]
    }
   ],
   "source": [
    "tickers_data['AIR.PA']"
   ]
  },
  {
   "cell_type": "code",
   "execution_count": null,
   "id": "81c69dad",
   "metadata": {},
   "outputs": [],
   "source": []
  },
  {
   "cell_type": "code",
   "execution_count": 12,
   "id": "797f3fac",
   "metadata": {},
   "outputs": [
    {
     "ename": "NameError",
     "evalue": "name 'tickers_data' is not defined",
     "output_type": "error",
     "traceback": [
      "\u001b[0;31m---------------------------------------------------------------------------\u001b[0m",
      "\u001b[0;31mNameError\u001b[0m                                 Traceback (most recent call last)",
      "Cell \u001b[0;32mIn[12], line 1\u001b[0m\n\u001b[0;32m----> 1\u001b[0m \u001b[43mtickers_data\u001b[49m[\u001b[38;5;124m'\u001b[39m\u001b[38;5;124mAIR.PA\u001b[39m\u001b[38;5;124m'\u001b[39m]\n",
      "\u001b[0;31mNameError\u001b[0m: name 'tickers_data' is not defined"
     ]
    }
   ],
   "source": [
    "tickers_data['AIR.PA']"
   ]
  },
  {
   "cell_type": "code",
   "execution_count": null,
   "id": "e5eb9002",
   "metadata": {},
   "outputs": [],
   "source": [
    "tickers_data['AIR.PA']"
   ]
  },
  {
   "cell_type": "code",
   "execution_count": null,
   "id": "b92d3070",
   "metadata": {},
   "outputs": [],
   "source": []
  }
 ],
 "metadata": {
  "kernelspec": {
   "display_name": "gpt_pursuit",
   "language": "python",
   "name": "python3"
  },
  "language_info": {
   "codemirror_mode": {
    "name": "ipython",
    "version": 3
   },
   "file_extension": ".py",
   "mimetype": "text/x-python",
   "name": "python",
   "nbconvert_exporter": "python",
   "pygments_lexer": "ipython3",
   "version": "3.11.8"
  }
 },
 "nbformat": 4,
 "nbformat_minor": 5
}
